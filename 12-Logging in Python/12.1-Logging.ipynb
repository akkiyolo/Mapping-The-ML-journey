{
 "cells": [
  {
   "cell_type": "markdown",
   "id": "4d7ad65c",
   "metadata": {},
   "source": [
    "#### Logging in Python\n",
    "\n",
    "##### Logging is a crucial aspect of any application, providing a way to track events , errors and operational information. Python's built in logging module offers a flexible framework for emitting log messages from python programs."
   ]
  },
  {
   "cell_type": "code",
   "execution_count": null,
   "id": "f9e8b707",
   "metadata": {},
   "outputs": [
    {
     "name": "stderr",
     "output_type": "stream",
     "text": [
      "2025-08-01 21:42:57-root-DEBUG-This is a debug message\n",
      "2025-08-01 21:42:57-root-INFO-This is an info message\n",
      "2025-08-01 21:42:57-root-WARNING-This is a warning message\n",
      "2025-08-01 21:42:57-root-ERROR-This is an error message\n",
      "2025-08-01 21:42:57-root-CRITICAL-This is a critical message\n"
     ]
    }
   ],
   "source": [
    "import logging\n",
    "\n",
    "## Configure the basic logging settings\n",
    "\n",
    "logging.basicConfig(level=logging.DEBUG)\n",
    "\n",
    "## log messages with different severity levels\n",
    "\n",
    "logging.debug(\"This is a debug message\")\n",
    "logging.info(\"This is an info message\")\n",
    "logging.warning(\"This is a warning message\")\n",
    "logging.error(\"This is an error message\")\n",
    "logging.critical(\"This is a critical message\")\n",
    "\n"
   ]
  },
  {
   "cell_type": "markdown",
   "id": "900740ed",
   "metadata": {},
   "source": [
    "#### Logging levels\n",
    "\n",
    "##### Python logging module has several log levels indicating the severity of events. The default levels are:\n",
    "\n",
    "1.DEBUG: detailed info, typically of interest only when diagonsing problems\n",
    "\n",
    "2.INFO: Confirmation that things are working as expected \n",
    "\n",
    "3.WARNING: An indication that something unexpected happened or indicative of some problem in the near future (e.g 'disk space low') . The software is still working\n",
    "\n",
    "4.ERROR: due to more serious problem , the software is has not been able to perform some function.\n",
    "\n",
    "5.CRITICAL: A very serious error, indicating that the program itself may be unable to continue running"
   ]
  },
  {
   "cell_type": "code",
   "execution_count": null,
   "id": "ce6040ba",
   "metadata": {},
   "outputs": [],
   "source": [
    "import logging\n",
    "\n",
    "logging.getLogger().handlers.clear()  # Clear existing handlers\n",
    "logging.basicConfig(\n",
    "    filename='app.log',\n",
    "    filemode='w',\n",
    "    level=logging.DEBUG,\n",
    "    format='%(asctime)s-%(name)s-%(levelname)s-%(message)s',\n",
    "    datefmt='%Y-%m-%d %H:%M:%S'\n",
    ")\n",
    "logging.debug(\"This is a debug message\")\n",
    "logging.info(\"This is an info message\")\n",
    "logging.warning(\"This is a warning message\")\n",
    "logging.error(\"This is an error message\")\n",
    "logging.critical(\"This is a critical message\")"
   ]
  },
  {
   "cell_type": "markdown",
   "id": "ddd76afd",
   "metadata": {},
   "source": []
  }
 ],
 "metadata": {
  "kernelspec": {
   "display_name": "venv",
   "language": "python",
   "name": "python3"
  },
  "language_info": {
   "codemirror_mode": {
    "name": "ipython",
    "version": 3
   },
   "file_extension": ".py",
   "mimetype": "text/x-python",
   "name": "python",
   "nbconvert_exporter": "python",
   "pygments_lexer": "ipython3",
   "version": "3.12.4"
  }
 },
 "nbformat": 4,
 "nbformat_minor": 5
}
