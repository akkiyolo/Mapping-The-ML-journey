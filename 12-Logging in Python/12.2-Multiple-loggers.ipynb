{
 "cells": [
  {
   "cell_type": "markdown",
   "id": "28b62948",
   "metadata": {},
   "source": [
    "#### Multiple Loggers\n",
    "\n",
    "##### you can create multiple loggers for differnt parts of your application"
   ]
  },
  {
   "cell_type": "code",
   "execution_count": 1,
   "id": "fa015cdc",
   "metadata": {},
   "outputs": [],
   "source": [
    "import logging\n",
    "\n",
    "## create a logger for module 1\n",
    "\n",
    "logger1=logging.getLogger(\"module1\")\n",
    "logger1.setLevel(logging.DEBUG)\n",
    "\n",
    "## create a logger for module 2\n",
    "\n",
    "logger2=logging.getLogger(\"module2\")\n",
    "logger2.setLevel(logging.WARNING)\n",
    "\n",
    "logging.getLogger().handlers.clear()  # Clear existing handlers\n",
    "logging.basicConfig(\n",
    "    filename='app.log',\n",
    "    filemode='w',\n",
    "    level=logging.DEBUG,\n",
    "    format='%(asctime)s-%(name)s-%(levelname)s-%(message)s',\n",
    "    datefmt='%Y-%m-%d %H:%M:%S'\n",
    ")\n"
   ]
  },
  {
   "cell_type": "code",
   "execution_count": 4,
   "id": "f560e3eb",
   "metadata": {},
   "outputs": [
    {
     "name": "stderr",
     "output_type": "stream",
     "text": [
      "This is warning message for module 2\n",
      "This is an error message\n"
     ]
    }
   ],
   "source": [
    "## log message with differnt loggers\n",
    "\n",
    "logging.getLogger().handlers.clear() \n",
    "\n",
    "logger1.debug(\"This is a debug message for module1\")\n",
    "logger2.warning(\"This is warning message for module 2\")\n",
    "logger2.error(\"This is an error message\")"
   ]
  }
 ],
 "metadata": {
  "kernelspec": {
   "display_name": "venv",
   "language": "python",
   "name": "python3"
  },
  "language_info": {
   "codemirror_mode": {
    "name": "ipython",
    "version": 3
   },
   "file_extension": ".py",
   "mimetype": "text/x-python",
   "name": "python",
   "nbconvert_exporter": "python",
   "pygments_lexer": "ipython3",
   "version": "3.12.4"
  }
 },
 "nbformat": 4,
 "nbformat_minor": 5
}
