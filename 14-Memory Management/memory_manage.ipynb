{
 "cells": [
  {
   "cell_type": "markdown",
   "id": "aed4e294",
   "metadata": {},
   "source": [
    "#### Python memory management\n",
    "\n",
    "##### Memory management in python invloves a combination of automatic garbage collection , reference counting , and various internal optimizations to efficeintly manage memory allocation and deallocation. Understanding these mechanisms can help developers write more efficient and robust apps.\n",
    "\n",
    "##### 1.key concepts in memory management\n",
    "##### 2.Memory allocation and deallocation\n",
    "##### 3.Reference counting\n",
    "##### 4.Garbage collection\n",
    "##### 5.The gc module\n",
    "##### 6.Memory management best practices\n"
   ]
  },
  {
   "cell_type": "markdown",
   "id": "4ad0d512",
   "metadata": {},
   "source": [
    "##### Reference counting\n",
    "\n",
    "Reference counting is the primary method python  uses to manage memory . Each boject in python maintains a count of referneces pointing to it. When the reference count drops to zero, the memory occupied by the object is deallocated."
   ]
  },
  {
   "cell_type": "code",
   "execution_count": null,
   "id": "80aab3f9",
   "metadata": {},
   "outputs": [
    {
     "name": "stdout",
     "output_type": "stream",
     "text": [
      "2\n"
     ]
    }
   ],
   "source": [
    "import sys\n",
    "\n",
    "a=[]\n",
    "## 2 (one reference from 'a' and one from getrefcount())\n",
    "print(sys.getrefcount(a))"
   ]
  },
  {
   "cell_type": "code",
   "execution_count": 2,
   "id": "077aceb7",
   "metadata": {},
   "outputs": [
    {
     "name": "stdout",
     "output_type": "stream",
     "text": [
      "3\n"
     ]
    }
   ],
   "source": [
    "b=a\n",
    "print(sys.getrefcount(b))"
   ]
  },
  {
   "cell_type": "code",
   "execution_count": 3,
   "id": "2db9e8fd",
   "metadata": {},
   "outputs": [
    {
     "name": "stdout",
     "output_type": "stream",
     "text": [
      "2\n"
     ]
    }
   ],
   "source": [
    "del b\n",
    "print(sys.getrefcount(a))"
   ]
  },
  {
   "cell_type": "markdown",
   "id": "3837fdfe",
   "metadata": {},
   "source": [
    "##### Garbage collection\n",
    "\n",
    "Python includes a cyclic garbage collector to handle refernce cycles.Reference cycles occur when objects reference each other,preventing their refernce counts from reaching zero.\n"
   ]
  },
  {
   "cell_type": "code",
   "execution_count": 4,
   "id": "7329f68d",
   "metadata": {},
   "outputs": [],
   "source": [
    "import gc\n",
    "## enable garbage collection\n",
    "\n",
    "gc.enable()"
   ]
  },
  {
   "cell_type": "code",
   "execution_count": 5,
   "id": "e27301ba",
   "metadata": {},
   "outputs": [],
   "source": [
    "gc.disable()"
   ]
  },
  {
   "cell_type": "code",
   "execution_count": null,
   "id": "0734a977",
   "metadata": {},
   "outputs": [
    {
     "data": {
      "text/plain": [
       "63"
      ]
     },
     "execution_count": 6,
     "metadata": {},
     "output_type": "execute_result"
    }
   ],
   "source": [
    "gc.collect() ##showing that these many number of variables are unreachable"
   ]
  }
 ],
 "metadata": {
  "kernelspec": {
   "display_name": "venv",
   "language": "python",
   "name": "python3"
  },
  "language_info": {
   "codemirror_mode": {
    "name": "ipython",
    "version": 3
   },
   "file_extension": ".py",
   "mimetype": "text/x-python",
   "name": "python",
   "nbconvert_exporter": "python",
   "pygments_lexer": "ipython3",
   "version": "3.12.4"
  }
 },
 "nbformat": 4,
 "nbformat_minor": 5
}
