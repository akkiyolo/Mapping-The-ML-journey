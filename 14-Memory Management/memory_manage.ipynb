{
 "cells": [
  {
   "cell_type": "markdown",
   "id": "aed4e294",
   "metadata": {},
   "source": [
    "#### Python memory management\n",
    "\n",
    "##### Memory management in python invloves a combination of automatic garbage collection , reference counting , and various internal optimizations to efficeintly manage memory allocation and deallocation. Understanding these mechanisms can help developers write more efficient and robust apps.\n",
    "\n",
    "##### 1.key concepts in memory management\n",
    "##### 2.Memory allocation and deallocation\n",
    "##### 3.Reference counting\n",
    "##### 4.Garbage collection\n",
    "##### 5.The gc module\n",
    "##### 6.Memory management best practices\n"
   ]
  },
  {
   "cell_type": "markdown",
   "id": "4ad0d512",
   "metadata": {},
   "source": [
    "##### Reference counting\n",
    "\n",
    "Reference counting is the primary method python  uses to manage memory . Each boject in python maintains a count of referneces pointing to it. When the reference count drops to zero, the memory occupied by the object is deallocated."
   ]
  },
  {
   "cell_type": "code",
   "execution_count": null,
   "id": "80aab3f9",
   "metadata": {},
   "outputs": [
    {
     "name": "stdout",
     "output_type": "stream",
     "text": [
      "2\n"
     ]
    }
   ],
   "source": [
    "import sys\n",
    "\n",
    "a=[]\n",
    "## 2 (one reference from 'a' and one from getrefcount())\n",
    "print(sys.getrefcount(a))"
   ]
  },
  {
   "cell_type": "code",
   "execution_count": 2,
   "id": "077aceb7",
   "metadata": {},
   "outputs": [
    {
     "name": "stdout",
     "output_type": "stream",
     "text": [
      "3\n"
     ]
    }
   ],
   "source": [
    "b=a\n",
    "print(sys.getrefcount(b))"
   ]
  },
  {
   "cell_type": "code",
   "execution_count": 3,
   "id": "2db9e8fd",
   "metadata": {},
   "outputs": [
    {
     "name": "stdout",
     "output_type": "stream",
     "text": [
      "2\n"
     ]
    }
   ],
   "source": [
    "del b\n",
    "print(sys.getrefcount(a))"
   ]
  },
  {
   "cell_type": "markdown",
   "id": "3837fdfe",
   "metadata": {},
   "source": [
    "##### Garbage collection\n",
    "\n",
    "Python includes a cyclic garbage collector to handle refernce cycles.Reference cycles occur when objects reference each other,preventing their refernce counts from reaching zero.\n"
   ]
  },
  {
   "cell_type": "code",
   "execution_count": 4,
   "id": "7329f68d",
   "metadata": {},
   "outputs": [],
   "source": [
    "import gc\n",
    "## enable garbage collection\n",
    "\n",
    "gc.enable()"
   ]
  },
  {
   "cell_type": "code",
   "execution_count": 5,
   "id": "e27301ba",
   "metadata": {},
   "outputs": [],
   "source": [
    "gc.disable()"
   ]
  },
  {
   "cell_type": "code",
   "execution_count": null,
   "id": "0734a977",
   "metadata": {},
   "outputs": [
    {
     "data": {
      "text/plain": [
       "63"
      ]
     },
     "execution_count": 6,
     "metadata": {},
     "output_type": "execute_result"
    }
   ],
   "source": [
    "gc.collect() ##showing that these many number of variables are unreachable"
   ]
  },
  {
   "cell_type": "code",
   "execution_count": 7,
   "id": "353ce39e",
   "metadata": {},
   "outputs": [
    {
     "name": "stdout",
     "output_type": "stream",
     "text": [
      "[{'collections': 176, 'collected': 1565, 'uncollectable': 0}, {'collections': 15, 'collected': 242, 'uncollectable': 0}, {'collections': 2, 'collected': 63, 'uncollectable': 0}]\n"
     ]
    }
   ],
   "source": [
    "## get garbage collection stats\n",
    "print(gc.get_stats())"
   ]
  },
  {
   "cell_type": "code",
   "execution_count": 8,
   "id": "824616d1",
   "metadata": {},
   "outputs": [
    {
     "name": "stdout",
     "output_type": "stream",
     "text": [
      "[]\n"
     ]
    }
   ],
   "source": [
    "## get unreachable objects\n",
    "print(gc.garbage)"
   ]
  },
  {
   "cell_type": "markdown",
   "id": "86ee1a94",
   "metadata": {},
   "source": [
    "##### Memory Management Best Practices\n",
    "\n",
    "1. Use Local Variables: Local variables have a shorter lifespan and are freed sooner than global variables.\n",
    "\n",
    "\n",
    "2. Avoid Circular References: Circular references can lead to memory leaks if not properly managed.\n",
    "\n",
    "\n",
    "3. Use Generators: Generators produce items one at a time and only keep one item in memory at a time, making them memory efficient.\n",
    "\n",
    "\n",
    "4. Explicitly Delete Objects: Use the del statement to delete variables and objects explicitly.\n",
    "\n",
    "\n",
    "5. Profile Memory Usage: Use memory profiling tools like tracemalloc and memory_profiler to identify memory leaks and optimize memory usage.\n"
   ]
  },
  {
   "cell_type": "code",
   "execution_count": null,
   "id": "2405e301",
   "metadata": {},
   "outputs": [
    {
     "name": "stdout",
     "output_type": "stream",
     "text": [
      "Object obj1 created\n",
      "Object obj2 created\n"
     ]
    },
    {
     "data": {
      "text/plain": [
       "8"
      ]
     },
     "execution_count": 11,
     "metadata": {},
     "output_type": "execute_result"
    }
   ],
   "source": [
    "## handling circular references\n",
    "import gc\n",
    "\n",
    "class MyObject:\n",
    "  def __init__(self,name):\n",
    "   self.name=name\n",
    "   print(f\"Object {self.name} created\")\n",
    "\n",
    "   def __del__(self):\n",
    "     print(f\"Object {self.name} deleted\")\n",
    "\n",
    "## Create circular reference\n",
    "\n",
    "obj1=MyObject(\"obj1\")\n",
    "obj2=MyObject(\"obj2\")\n",
    "obj1.ref=obj2\n",
    "obj2.ref=obj1\n",
    "\n",
    "del obj1\n",
    "del obj2\n",
    "\n",
    "## manually trigger the garbage collection\n",
    "gc.collect()"
   ]
  },
  {
   "cell_type": "code",
   "execution_count": 13,
   "id": "5accd8bb",
   "metadata": {},
   "outputs": [
    {
     "name": "stdout",
     "output_type": "stream",
     "text": [
      "0\n",
      "1\n",
      "2\n",
      "3\n",
      "4\n",
      "5\n",
      "6\n",
      "7\n",
      "8\n",
      "9\n",
      "10\n",
      "11\n"
     ]
    }
   ],
   "source": [
    "## Generators for memory efficiency\n",
    "## Generators allow you to produce items one at a time,using memory efficiently by only keeping one item at a time.\n",
    "\n",
    "def generate_numbers(n):\n",
    "  for i in range(n):\n",
    "    yield i\n",
    "\n",
    "## Using the generator\n",
    "\n",
    "for num in generate_numbers(10000):\n",
    "  print(num)\n",
    "  if num>10:\n",
    "    break"
   ]
  },
  {
   "cell_type": "code",
   "execution_count": 16,
   "id": "e95bea5a",
   "metadata": {},
   "outputs": [
    {
     "name": "stdout",
     "output_type": "stream",
     "text": [
      "[Top 10]\n",
      "D:\\anaconda\\Lib\\selectors.py:0: size=144 KiB, count=7, average=20.6 KiB\n",
      "d:\\CSE EVERYTHING\\ML with Python\\venv\\Lib\\site-packages\\IPython\\core\\compilerop.py:0: size=29.6 KiB, count=323, average=94 B\n",
      "D:\\anaconda\\Lib\\json\\decoder.py:0: size=6667 B, count=91, average=73 B\n",
      "d:\\CSE EVERYTHING\\ML with Python\\venv\\Lib\\site-packages\\traitlets\\traitlets.py:0: size=6260 B, count=93, average=67 B\n",
      "d:\\CSE EVERYTHING\\ML with Python\\venv\\Lib\\site-packages\\IPython\\core\\interactiveshell.py:0: size=5749 B, count=39, average=147 B\n",
      "d:\\CSE EVERYTHING\\ML with Python\\venv\\Lib\\site-packages\\jupyter_client\\jsonutil.py:0: size=4462 B, count=66, average=68 B\n",
      "d:\\CSE EVERYTHING\\ML with Python\\venv\\Lib\\site-packages\\zmq\\sugar\\attrsettr.py:0: size=3760 B, count=80, average=47 B\n",
      "d:\\CSE EVERYTHING\\ML with Python\\venv\\Lib\\site-packages\\ipykernel\\iostream.py:0: size=3194 B, count=29, average=110 B\n",
      "D:\\anaconda\\Lib\\codeop.py:0: size=2630 B, count=32, average=82 B\n",
      "d:\\CSE EVERYTHING\\ML with Python\\venv\\Lib\\site-packages\\jupyter_client\\session.py:0: size=2231 B, count=19, average=117 B\n"
     ]
    }
   ],
   "source": [
    "import tracemalloc\n",
    "\n",
    "def create_list():\n",
    "    return [i for i in range(1000000)]  # Increased size for more memory usage\n",
    "\n",
    "def main():\n",
    "    tracemalloc.start()\n",
    "    create_list()\n",
    "    snapshot = tracemalloc.take_snapshot()\n",
    "    top_stats = snapshot.statistics('filename')\n",
    "    print(\"[Top 10]\")\n",
    "    for stat in top_stats[:10]:\n",
    "        print(stat)\n",
    "\n",
    "if __name__ == \"__main__\":\n",
    "    main()"
   ]
  }
 ],
 "metadata": {
  "kernelspec": {
   "display_name": "venv",
   "language": "python",
   "name": "python3"
  },
  "language_info": {
   "codemirror_mode": {
    "name": "ipython",
    "version": 3
   },
   "file_extension": ".py",
   "mimetype": "text/x-python",
   "name": "python",
   "nbconvert_exporter": "python",
   "pygments_lexer": "ipython3",
   "version": "3.12.4"
  }
 },
 "nbformat": 4,
 "nbformat_minor": 5
}
