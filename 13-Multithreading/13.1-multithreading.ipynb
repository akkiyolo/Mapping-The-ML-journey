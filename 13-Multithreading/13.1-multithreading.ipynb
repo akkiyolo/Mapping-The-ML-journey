{
 "cells": [
  {
   "cell_type": "markdown",
   "id": "4db2fa01",
   "metadata": {},
   "source": [
    "#### program \n",
    "\n",
    "##### A program is a sequence of instructions written in programming languages\n",
    "\n",
    "##### example: google chrome , it is an .exe file telling how browser should work\n",
    "\n",
    "#### Process\n",
    "\n",
    "##### It is an instance of program that is being executed \n",
    "\n",
    "#### separate memory space \n",
    "\n",
    "##### 1. so talking about memory , one process cannot corrupt another process\n",
    "\n",
    "##### 2. io requirements (resources)\n",
    "\n",
    "##### 3. Increased execution time to switch browser processes\n",
    "\n",
    "#### Thread\n",
    "\n",
    "##### this a unit of execution within a process\n",
    "\n",
    "##### example : ms paint is a process and drawing a circle or rectangular box is a thread\n",
    "\n",
    "#### multithreaded process \n",
    "\n",
    "##### working with multiple threads that will have their own stack and registers\n",
    "\n",
    "\n",
    "\n",
    "\n"
   ]
  },
  {
   "cell_type": "markdown",
   "id": "e86a635b",
   "metadata": {},
   "source": []
  }
 ],
 "metadata": {
  "kernelspec": {
   "display_name": "venv",
   "language": "python",
   "name": "python3"
  },
  "language_info": {
   "name": "python",
   "version": "3.12.4"
  }
 },
 "nbformat": 4,
 "nbformat_minor": 5
}
